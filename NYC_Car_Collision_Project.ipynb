{
  "nbformat": 4,
  "nbformat_minor": 0,
  "metadata": {
    "colab": {
      "provenance": [],
      "authorship_tag": "ABX9TyM5DbtCVmh12CIJ+F8iqdue",
      "include_colab_link": true
    },
    "kernelspec": {
      "name": "python3",
      "display_name": "Python 3"
    },
    "language_info": {
      "name": "python"
    }
  },
  "cells": [
    {
      "cell_type": "markdown",
      "metadata": {
        "id": "view-in-github",
        "colab_type": "text"
      },
      "source": [
        "<a href=\"https://colab.research.google.com/github/shivanakallie/Data-Analysis/blob/main/NYC_Car_Collision_Project.ipynb\" target=\"_parent\"><img src=\"https://colab.research.google.com/assets/colab-badge.svg\" alt=\"Open In Colab\"/></a>"
      ]
    },
    {
      "cell_type": "code",
      "execution_count": null,
      "metadata": {
        "colab": {
          "base_uri": "https://localhost:8080/"
        },
        "id": "--62H3hkXLAu",
        "outputId": "bf786a9e-0e52-49a5-987f-0a2a8373b872"
      },
      "outputs": [
        {
          "output_type": "stream",
          "name": "stdout",
          "text": [
            "['out_of_state_reg', 'more_than_2_occupants', 'male', 'unlicensed', 'license_out_of_state', 'PRE_CRASH', 'Commercial Vehicle', 'Weekend', 'one_or_more_injured', 'Under_Influence', 'Taxi', 'Bike', 'female']\n",
            "Optimization terminated successfully.\n",
            "         Current function value: 0.490536\n",
            "         Iterations 6\n",
            "                            Logit Regression Results                           \n",
            "===============================================================================\n",
            "Dep. Variable:     one_or_more_injured   No. Observations:                65197\n",
            "Model:                           Logit   Df Residuals:                    65187\n",
            "Method:                            MLE   Df Model:                            9\n",
            "Date:                 Tue, 06 May 2025   Pseudo R-squ.:                0.007605\n",
            "Time:                         03:46:53   Log-Likelihood:                -31981.\n",
            "converged:                        True   LL-Null:                       -32227.\n",
            "Covariance Type:             nonrobust   LLR p-value:                7.336e-100\n",
            "=========================================================================================\n",
            "                            coef    std err          z      P>|z|      [0.025      0.975]\n",
            "-----------------------------------------------------------------------------------------\n",
            "const                    -1.7278      0.039    -44.677      0.000      -1.804      -1.652\n",
            "out_of_state_reg         -0.0094      0.036     -0.261      0.794      -0.080       0.062\n",
            "more_than_2_occupants     0.5353      0.032     16.877      0.000       0.473       0.597\n",
            "unlicensed                0.8071      0.071     11.408      0.000       0.668       0.946\n",
            "license_out_of_state      0.2698      0.037      7.208      0.000       0.196       0.343\n",
            "Weekend                   0.0055      0.020      0.272      0.786      -0.034       0.045\n",
            "Under_Influence          -0.0188      0.117     -0.160      0.873      -0.249       0.211\n",
            "Taxi                     -0.0093      0.049     -0.190      0.849      -0.105       0.087\n",
            "Bike                     -0.5511      0.199     -2.773      0.006      -0.941      -0.162\n",
            "female                    0.0501      0.022      2.261      0.024       0.007       0.094\n",
            "=========================================================================================\n"
          ]
        }
      ],
      "source": [
        "import pandas as pd\n",
        "import statsmodels.api as sm\n",
        "\n",
        "# Load the data\n",
        "df = pd.read_csv(\"/content/Final_Project_Updated_5_5_Cleaned.csv\")\n",
        "\n",
        "# Print column names to verify available variables\n",
        "print(df.columns.tolist())\n",
        "\n",
        "# Select independent variables\n",
        "x = df[['out_of_state_reg', 'more_than_2_occupants',\n",
        "        'unlicensed', 'license_out_of_state',\n",
        "        'Weekend', 'Under_Influence', 'Taxi', 'Bike', 'female']]\n",
        "\n",
        "# Only use get_dummies if necessary (categorical values present)\n",
        "# x = pd.get_dummies(x, drop_first=True)\n",
        "\n",
        "# Target variable: 1 if injured, else 0\n",
        "y = (df['one_or_more_injured'] > 0).astype(int)\n",
        "\n",
        "# Add intercept\n",
        "x = sm.add_constant(x)\n",
        "\n",
        "# Fit model\n",
        "model2 = sm.Logit(y, x).fit(disp=True)\n",
        "\n",
        "# Show results\n",
        "print(model2.summary())\n",
        "\n"
      ]
    }
  ]
}